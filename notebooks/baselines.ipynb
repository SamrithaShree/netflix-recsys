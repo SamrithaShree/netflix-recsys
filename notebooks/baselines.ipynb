{
 "cells": [
  {
   "cell_type": "code",
   "execution_count": 4,
   "id": "80d67ac9",
   "metadata": {},
   "outputs": [
    {
     "name": "stdout",
     "output_type": "stream",
     "text": [
      "Popularity baseline: Precision@10=0.0428 Recall@10=0.0226 NDCG@10=0.1552\n",
      "Random baseline: Precision@10=0.0113 Recall@10=0.0033 NDCG@10=0.0550\n"
     ]
    }
   ],
   "source": [
    "# Baseline Models: Popularity and Random\n",
    "\n",
    "import sys\n",
    "import os\n",
    "sys.path.append(os.path.abspath(\"..\"))\n",
    "\n",
    "import pandas as pd\n",
    "from src.models.baselines import PopularityBaseline, RandomBaseline\n",
    "from src.utils.metrics import batch_eval\n",
    "\n",
    "train = pd.read_csv(\"../data/sample/train.csv\")\n",
    "test = pd.read_csv(\"../data/sample/test.csv\")\n",
    "\n",
    "test_dict = test.groupby(\"userId\")[\"movieId\"].apply(list).to_dict()\n",
    "users = list(test_dict.keys())\n",
    "\n",
    "pop_model = PopularityBaseline()\n",
    "pop_model.fit(train)\n",
    "pop_recs = {uid: pop_model.recommend(n=10) for uid in users}\n",
    "\n",
    "rand_model = RandomBaseline(seed=42)\n",
    "rand_model.fit(train)\n",
    "rand_recs = {uid: rand_model.recommend(userId=uid, n=10) for uid in users}\n",
    "\n",
    "for name, recs in [(\"Popularity\", pop_recs), (\"Random\", rand_recs)]:\n",
    "    prec, recall, ndcg = batch_eval(users, test_dict, recs, k=10)\n",
    "    print(f\"{name} baseline: Precision@10={prec:.4f} Recall@10={recall:.4f} NDCG@10={ndcg:.4f}\")\n"
   ]
  },
  {
   "cell_type": "code",
   "execution_count": null,
   "id": "76b88320",
   "metadata": {},
   "outputs": [],
   "source": []
  },
  {
   "cell_type": "code",
   "execution_count": null,
   "id": "b1382228",
   "metadata": {},
   "outputs": [],
   "source": []
  }
 ],
 "metadata": {
  "kernelspec": {
   "display_name": ".venv",
   "language": "python",
   "name": "python3"
  },
  "language_info": {
   "codemirror_mode": {
    "name": "ipython",
    "version": 3
   },
   "file_extension": ".py",
   "mimetype": "text/x-python",
   "name": "python",
   "nbconvert_exporter": "python",
   "pygments_lexer": "ipython3",
   "version": "3.12.4"
  }
 },
 "nbformat": 4,
 "nbformat_minor": 5
}
