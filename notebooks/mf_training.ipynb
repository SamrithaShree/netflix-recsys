{
 "cells": [
  {
   "cell_type": "code",
   "execution_count": 1,
   "id": "0eaa8ac2",
   "metadata": {},
   "outputs": [
    {
     "name": "stdout",
     "output_type": "stream",
     "text": [
      "Model saved to ../model_artifacts/svd_model.pkl\n",
      "SVD model: Precision@10=0.0327 Recall@10=0.0118 NDCG@10=0.0307\n"
     ]
    }
   ],
   "source": [
    "# Matrix Factorization Model Training & Evaluation\n",
    "\n",
    "import sys\n",
    "import os\n",
    "sys.path.append(os.path.abspath(\"..\"))\n",
    "\n",
    "import pandas as pd\n",
    "from surprise import Reader, Dataset\n",
    "from src.models.mf_model import SVDRecommender\n",
    "from src.utils.metrics import batch_eval\n",
    "\n",
    "train = pd.read_csv(\"../data/sample/train.csv\")\n",
    "test = pd.read_csv(\"../data/sample/test.csv\")\n",
    "\n",
    "reader = Reader(rating_scale=(train.rating.min(), train.rating.max()))\n",
    "data = Dataset.load_from_df(train[['userId', 'movieId', 'rating']], reader)\n",
    "trainset = data.build_full_trainset()\n",
    "\n",
    "algo = SVDRecommender()\n",
    "algo.fit(trainset)\n",
    "algo.save_model(\"../model_artifacts/svd_model.pkl\")\n",
    "\n",
    "users = test['userId'].unique()\n",
    "test_dict = test.groupby(\"userId\")[\"movieId\"].apply(list).to_dict()\n",
    "\n",
    "top_n = {}\n",
    "for uid in users:\n",
    "    top_n[uid] = algo.recommend(uid, train, n=10)\n",
    "\n",
    "prec, recall, ndcg = batch_eval(users, test_dict, top_n, k=10)\n",
    "print(f\"SVD model: Precision@10={prec:.4f} Recall@10={recall:.4f} NDCG@10={ndcg:.4f}\")\n"
   ]
  },
  {
   "cell_type": "code",
   "execution_count": null,
   "id": "d2e8987d",
   "metadata": {},
   "outputs": [],
   "source": []
  }
 ],
 "metadata": {
  "kernelspec": {
   "display_name": ".venv",
   "language": "python",
   "name": "python3"
  },
  "language_info": {
   "codemirror_mode": {
    "name": "ipython",
    "version": 3
   },
   "file_extension": ".py",
   "mimetype": "text/x-python",
   "name": "python",
   "nbconvert_exporter": "python",
   "pygments_lexer": "ipython3",
   "version": "3.12.4"
  }
 },
 "nbformat": 4,
 "nbformat_minor": 5
}
